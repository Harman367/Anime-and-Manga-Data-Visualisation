{
 "cells": [
  {
   "cell_type": "markdown",
   "metadata": {},
   "source": [
    "# Data Loading & Cleaning"
   ]
  },
  {
   "cell_type": "markdown",
   "metadata": {},
   "source": [
    "### Imports"
   ]
  },
  {
   "cell_type": "code",
   "execution_count": 21,
   "metadata": {},
   "outputs": [],
   "source": [
    "#Imports\n",
    "import pandas as pd"
   ]
  },
  {
   "cell_type": "markdown",
   "metadata": {},
   "source": [
    "### Data Loading"
   ]
  },
  {
   "cell_type": "code",
   "execution_count": 22,
   "metadata": {},
   "outputs": [],
   "source": [
    "#Load files into dataframes\n",
    "df_anime = pd.read_csv(\"Dataset/anime.csv\")\n",
    "df_manga = pd.read_csv(\"Dataset/manga.csv\")\n",
    "\n",
    "#Load stats\n",
    "df_anime_stats = pd.read_csv(\"Dataset/anime_stats.csv\")\n",
    "df_manga_stats = pd.read_csv(\"Dataset/manga_stats.csv\")"
   ]
  },
  {
   "cell_type": "markdown",
   "metadata": {},
   "source": [
    "### Data Cleaning"
   ]
  },
  {
   "cell_type": "code",
   "execution_count": 23,
   "metadata": {},
   "outputs": [],
   "source": [
    "#Drop rows that contain nsfw.\n",
    "df_anime = df_anime.drop(df_anime[df_anime.sfw == False].index)\n",
    "df_manga = df_manga.drop(df_manga[df_manga.sfw == False].index)"
   ]
  },
  {
   "cell_type": "code",
   "execution_count": 24,
   "metadata": {},
   "outputs": [],
   "source": [
    "#Drop rows that are not yet approved.\n",
    "df_anime = df_anime.drop(df_anime[df_anime.approved == False].index)\n",
    "df_manga = df_manga.drop(df_manga[df_manga.approved == False].index)"
   ]
  },
  {
   "cell_type": "code",
   "execution_count": 25,
   "metadata": {},
   "outputs": [],
   "source": [
    "#Drop columns in anime data.\n",
    "df_anime = df_anime.drop([\n",
    "    \"episodes\", \"start_date\", \"end_date\",\n",
    "    \"episode_duration\", \"total_duration\",\n",
    "    \"sfw\", \"approved\", \"created_at\",\n",
    "    \"updated_at\", \"start_season\", \"real_start_date\",\n",
    "    \"real_end_date\", \"broadcast_day\", \"broadcast_time\",\n",
    "    \"studios\", \"producers\", \"licensors\",\n",
    "    \"synopsis\", \"background\", \"url\",\n",
    "    \"title_japanese\", \"title_synonyms\"\n",
    "    ], axis = 1\n",
    ")"
   ]
  },
  {
   "cell_type": "code",
   "execution_count": 26,
   "metadata": {},
   "outputs": [],
   "source": [
    "#Drop columns in manga data.\n",
    "df_manga = df_manga.drop([\n",
    "    \"end_date\", \"sfw\", \"approved\",\n",
    "    \"created_at_before\", \"updated_at\", \"real_start_date\",\n",
    "    \"real_end_date\", \"synopsis\", \"background\",\n",
    "    \"url\", \"title_japanese\", \"title_synonyms\",\n",
    "    \"volumes\", \"chapters\", \"authors\",\n",
    "    \"serializations\", \"jikan\"\n",
    "    ], axis = 1\n",
    ")"
   ]
  },
  {
   "cell_type": "code",
   "execution_count": 27,
   "metadata": {},
   "outputs": [
    {
     "data": {
      "text/html": [
       "<div>\n",
       "<style scoped>\n",
       "    .dataframe tbody tr th:only-of-type {\n",
       "        vertical-align: middle;\n",
       "    }\n",
       "\n",
       "    .dataframe tbody tr th {\n",
       "        vertical-align: top;\n",
       "    }\n",
       "\n",
       "    .dataframe thead th {\n",
       "        text-align: right;\n",
       "    }\n",
       "</style>\n",
       "<table border=\"1\" class=\"dataframe\">\n",
       "  <thead>\n",
       "    <tr style=\"text-align: right;\">\n",
       "      <th></th>\n",
       "      <th>manga_id</th>\n",
       "      <th>title</th>\n",
       "      <th>type</th>\n",
       "      <th>score</th>\n",
       "      <th>scored_by</th>\n",
       "      <th>status</th>\n",
       "      <th>start_date</th>\n",
       "      <th>members</th>\n",
       "      <th>favorites</th>\n",
       "      <th>genres</th>\n",
       "      <th>themes</th>\n",
       "      <th>demographics</th>\n",
       "      <th>main_picture</th>\n",
       "      <th>title_english</th>\n",
       "    </tr>\n",
       "  </thead>\n",
       "  <tbody>\n",
       "    <tr>\n",
       "      <th>0</th>\n",
       "      <td>2</td>\n",
       "      <td>Berserk</td>\n",
       "      <td>manga</td>\n",
       "      <td>9.45</td>\n",
       "      <td>268737</td>\n",
       "      <td>currently_publishing</td>\n",
       "      <td>1989-08-25</td>\n",
       "      <td>551266</td>\n",
       "      <td>103820</td>\n",
       "      <td>['Action', 'Adventure', 'Award Winning', 'Dram...</td>\n",
       "      <td>['Gore', 'Military', 'Mythology', 'Psychologic...</td>\n",
       "      <td>['Seinen']</td>\n",
       "      <td>https://cdn.myanimelist.net/images/manga/1/157...</td>\n",
       "      <td>Berserk</td>\n",
       "    </tr>\n",
       "    <tr>\n",
       "      <th>1</th>\n",
       "      <td>13</td>\n",
       "      <td>One Piece</td>\n",
       "      <td>manga</td>\n",
       "      <td>9.20</td>\n",
       "      <td>305917</td>\n",
       "      <td>currently_publishing</td>\n",
       "      <td>1997-07-22</td>\n",
       "      <td>501291</td>\n",
       "      <td>99526</td>\n",
       "      <td>['Action', 'Adventure', 'Fantasy']</td>\n",
       "      <td>[]</td>\n",
       "      <td>['Shounen']</td>\n",
       "      <td>https://cdn.myanimelist.net/images/manga/2/253...</td>\n",
       "      <td>One Piece</td>\n",
       "    </tr>\n",
       "    <tr>\n",
       "      <th>2</th>\n",
       "      <td>25</td>\n",
       "      <td>Fullmetal Alchemist</td>\n",
       "      <td>manga</td>\n",
       "      <td>9.05</td>\n",
       "      <td>143879</td>\n",
       "      <td>finished</td>\n",
       "      <td>2001-07-12</td>\n",
       "      <td>264571</td>\n",
       "      <td>28519</td>\n",
       "      <td>['Action', 'Adventure', 'Award Winning', 'Dram...</td>\n",
       "      <td>['Military']</td>\n",
       "      <td>['Shounen']</td>\n",
       "      <td>https://cdn.myanimelist.net/images/manga/3/243...</td>\n",
       "      <td>Fullmetal Alchemist</td>\n",
       "    </tr>\n",
       "    <tr>\n",
       "      <th>3</th>\n",
       "      <td>1706</td>\n",
       "      <td>JoJo no Kimyou na Bouken Part 7: Steel Ball Run</td>\n",
       "      <td>manga</td>\n",
       "      <td>9.27</td>\n",
       "      <td>125482</td>\n",
       "      <td>finished</td>\n",
       "      <td>2004-01-19</td>\n",
       "      <td>209123</td>\n",
       "      <td>35456</td>\n",
       "      <td>['Action', 'Adventure', 'Horror', 'Mystery', '...</td>\n",
       "      <td>['Historical']</td>\n",
       "      <td>['Seinen', 'Shounen']</td>\n",
       "      <td>https://cdn.myanimelist.net/images/manga/3/179...</td>\n",
       "      <td>NaN</td>\n",
       "    </tr>\n",
       "    <tr>\n",
       "      <th>4</th>\n",
       "      <td>4632</td>\n",
       "      <td>Oyasumi Punpun</td>\n",
       "      <td>manga</td>\n",
       "      <td>9.03</td>\n",
       "      <td>141146</td>\n",
       "      <td>finished</td>\n",
       "      <td>2007-03-15</td>\n",
       "      <td>354176</td>\n",
       "      <td>43168</td>\n",
       "      <td>['Drama', 'Slice of Life']</td>\n",
       "      <td>['Psychological']</td>\n",
       "      <td>['Seinen']</td>\n",
       "      <td>https://cdn.myanimelist.net/images/manga/3/164...</td>\n",
       "      <td>Goodnight Punpun</td>\n",
       "    </tr>\n",
       "    <tr>\n",
       "      <th>...</th>\n",
       "      <td>...</td>\n",
       "      <td>...</td>\n",
       "      <td>...</td>\n",
       "      <td>...</td>\n",
       "      <td>...</td>\n",
       "      <td>...</td>\n",
       "      <td>...</td>\n",
       "      <td>...</td>\n",
       "      <td>...</td>\n",
       "      <td>...</td>\n",
       "      <td>...</td>\n",
       "      <td>...</td>\n",
       "      <td>...</td>\n",
       "      <td>...</td>\n",
       "    </tr>\n",
       "    <tr>\n",
       "      <th>59967</th>\n",
       "      <td>145183</td>\n",
       "      <td>Shikumareta Jouji</td>\n",
       "      <td>manga</td>\n",
       "      <td>NaN</td>\n",
       "      <td>1</td>\n",
       "      <td>finished</td>\n",
       "      <td>2011-06-30</td>\n",
       "      <td>4</td>\n",
       "      <td>0</td>\n",
       "      <td>['Romance']</td>\n",
       "      <td>[]</td>\n",
       "      <td>['Josei']</td>\n",
       "      <td>https://cdn.myanimelist.net/images/manga/1/263...</td>\n",
       "      <td>Bought: The Greek's Baby</td>\n",
       "    </tr>\n",
       "    <tr>\n",
       "      <th>59968</th>\n",
       "      <td>139311</td>\n",
       "      <td>A Compendium of Ghosts</td>\n",
       "      <td>manhwa</td>\n",
       "      <td>NaN</td>\n",
       "      <td>0</td>\n",
       "      <td>finished</td>\n",
       "      <td>2013-05-22</td>\n",
       "      <td>3</td>\n",
       "      <td>0</td>\n",
       "      <td>['Drama', 'Supernatural']</td>\n",
       "      <td>['Historical']</td>\n",
       "      <td>[]</td>\n",
       "      <td>https://cdn.myanimelist.net/images/manga/1/265...</td>\n",
       "      <td>A Compendium of Ghosts</td>\n",
       "    </tr>\n",
       "    <tr>\n",
       "      <th>59969</th>\n",
       "      <td>149561</td>\n",
       "      <td>Red Velvet</td>\n",
       "      <td>manga</td>\n",
       "      <td>NaN</td>\n",
       "      <td>0</td>\n",
       "      <td>finished</td>\n",
       "      <td>2018-10-22</td>\n",
       "      <td>3</td>\n",
       "      <td>0</td>\n",
       "      <td>['Drama']</td>\n",
       "      <td>[]</td>\n",
       "      <td>['Seinen']</td>\n",
       "      <td>https://cdn.myanimelist.net/images/manga/1/265...</td>\n",
       "      <td>NaN</td>\n",
       "    </tr>\n",
       "    <tr>\n",
       "      <th>59980</th>\n",
       "      <td>146734</td>\n",
       "      <td>Red Es</td>\n",
       "      <td>manga</td>\n",
       "      <td>NaN</td>\n",
       "      <td>0</td>\n",
       "      <td>currently_publishing</td>\n",
       "      <td>2022-05-09</td>\n",
       "      <td>1</td>\n",
       "      <td>0</td>\n",
       "      <td>['Mystery', 'Supernatural']</td>\n",
       "      <td>[]</td>\n",
       "      <td>['Seinen']</td>\n",
       "      <td>https://cdn.myanimelist.net/images/manga/3/265...</td>\n",
       "      <td>NaN</td>\n",
       "    </tr>\n",
       "    <tr>\n",
       "      <th>66983</th>\n",
       "      <td>148937</td>\n",
       "      <td>Kengai Vacation</td>\n",
       "      <td>manga</td>\n",
       "      <td>NaN</td>\n",
       "      <td>0</td>\n",
       "      <td>currently_publishing</td>\n",
       "      <td>2022-07-05</td>\n",
       "      <td>0</td>\n",
       "      <td>0</td>\n",
       "      <td>['Romance']</td>\n",
       "      <td>[]</td>\n",
       "      <td>['Shoujo']</td>\n",
       "      <td>https://cdn.myanimelist.net/images/manga/1/265...</td>\n",
       "      <td>NaN</td>\n",
       "    </tr>\n",
       "  </tbody>\n",
       "</table>\n",
       "<p>41357 rows × 14 columns</p>\n",
       "</div>"
      ],
      "text/plain": [
       "       manga_id                                            title    type  \\\n",
       "0             2                                          Berserk   manga   \n",
       "1            13                                        One Piece   manga   \n",
       "2            25                              Fullmetal Alchemist   manga   \n",
       "3          1706  JoJo no Kimyou na Bouken Part 7: Steel Ball Run   manga   \n",
       "4          4632                                   Oyasumi Punpun   manga   \n",
       "...         ...                                              ...     ...   \n",
       "59967    145183                                Shikumareta Jouji   manga   \n",
       "59968    139311                           A Compendium of Ghosts  manhwa   \n",
       "59969    149561                                       Red Velvet   manga   \n",
       "59980    146734                                           Red Es   manga   \n",
       "66983    148937                                  Kengai Vacation   manga   \n",
       "\n",
       "       score  scored_by                status  start_date  members  favorites  \\\n",
       "0       9.45     268737  currently_publishing  1989-08-25   551266     103820   \n",
       "1       9.20     305917  currently_publishing  1997-07-22   501291      99526   \n",
       "2       9.05     143879              finished  2001-07-12   264571      28519   \n",
       "3       9.27     125482              finished  2004-01-19   209123      35456   \n",
       "4       9.03     141146              finished  2007-03-15   354176      43168   \n",
       "...      ...        ...                   ...         ...      ...        ...   \n",
       "59967    NaN          1              finished  2011-06-30        4          0   \n",
       "59968    NaN          0              finished  2013-05-22        3          0   \n",
       "59969    NaN          0              finished  2018-10-22        3          0   \n",
       "59980    NaN          0  currently_publishing  2022-05-09        1          0   \n",
       "66983    NaN          0  currently_publishing  2022-07-05        0          0   \n",
       "\n",
       "                                                  genres  \\\n",
       "0      ['Action', 'Adventure', 'Award Winning', 'Dram...   \n",
       "1                     ['Action', 'Adventure', 'Fantasy']   \n",
       "2      ['Action', 'Adventure', 'Award Winning', 'Dram...   \n",
       "3      ['Action', 'Adventure', 'Horror', 'Mystery', '...   \n",
       "4                             ['Drama', 'Slice of Life']   \n",
       "...                                                  ...   \n",
       "59967                                        ['Romance']   \n",
       "59968                          ['Drama', 'Supernatural']   \n",
       "59969                                          ['Drama']   \n",
       "59980                        ['Mystery', 'Supernatural']   \n",
       "66983                                        ['Romance']   \n",
       "\n",
       "                                                  themes  \\\n",
       "0      ['Gore', 'Military', 'Mythology', 'Psychologic...   \n",
       "1                                                     []   \n",
       "2                                           ['Military']   \n",
       "3                                         ['Historical']   \n",
       "4                                      ['Psychological']   \n",
       "...                                                  ...   \n",
       "59967                                                 []   \n",
       "59968                                     ['Historical']   \n",
       "59969                                                 []   \n",
       "59980                                                 []   \n",
       "66983                                                 []   \n",
       "\n",
       "                demographics  \\\n",
       "0                 ['Seinen']   \n",
       "1                ['Shounen']   \n",
       "2                ['Shounen']   \n",
       "3      ['Seinen', 'Shounen']   \n",
       "4                 ['Seinen']   \n",
       "...                      ...   \n",
       "59967              ['Josei']   \n",
       "59968                     []   \n",
       "59969             ['Seinen']   \n",
       "59980             ['Seinen']   \n",
       "66983             ['Shoujo']   \n",
       "\n",
       "                                            main_picture  \\\n",
       "0      https://cdn.myanimelist.net/images/manga/1/157...   \n",
       "1      https://cdn.myanimelist.net/images/manga/2/253...   \n",
       "2      https://cdn.myanimelist.net/images/manga/3/243...   \n",
       "3      https://cdn.myanimelist.net/images/manga/3/179...   \n",
       "4      https://cdn.myanimelist.net/images/manga/3/164...   \n",
       "...                                                  ...   \n",
       "59967  https://cdn.myanimelist.net/images/manga/1/263...   \n",
       "59968  https://cdn.myanimelist.net/images/manga/1/265...   \n",
       "59969  https://cdn.myanimelist.net/images/manga/1/265...   \n",
       "59980  https://cdn.myanimelist.net/images/manga/3/265...   \n",
       "66983  https://cdn.myanimelist.net/images/manga/1/265...   \n",
       "\n",
       "                  title_english  \n",
       "0                       Berserk  \n",
       "1                     One Piece  \n",
       "2           Fullmetal Alchemist  \n",
       "3                           NaN  \n",
       "4              Goodnight Punpun  \n",
       "...                         ...  \n",
       "59967  Bought: The Greek's Baby  \n",
       "59968    A Compendium of Ghosts  \n",
       "59969                       NaN  \n",
       "59980                       NaN  \n",
       "66983                       NaN  \n",
       "\n",
       "[41357 rows x 14 columns]"
      ]
     },
     "execution_count": 27,
     "metadata": {},
     "output_type": "execute_result"
    }
   ],
   "source": [
    "df_manga"
   ]
  },
  {
   "cell_type": "markdown",
   "metadata": {},
   "source": [
    "### Missing data"
   ]
  },
  {
   "cell_type": "code",
   "execution_count": 35,
   "metadata": {},
   "outputs": [
    {
     "name": "stdout",
     "output_type": "stream",
     "text": [
      "False\n",
      "False\n"
     ]
    }
   ],
   "source": [
    "#Check stats.\n",
    "print(df_anime_stats.isnull().values.any())\n",
    "print(df_manga_stats.isnull().values.any())"
   ]
  },
  {
   "cell_type": "code",
   "execution_count": 29,
   "metadata": {},
   "outputs": [],
   "source": [
    "#Remove rows with missing scores.\n",
    "df_anime = df_anime[pd.to_numeric(df_anime[\"score\"],errors=\"coerce\").notnull()]\n",
    "df_manga = df_manga[pd.to_numeric(df_manga[\"score\"],errors=\"coerce\").notnull()]"
   ]
  },
  {
   "cell_type": "code",
   "execution_count": 36,
   "metadata": {},
   "outputs": [
    {
     "data": {
      "text/plain": [
       "False"
      ]
     },
     "execution_count": 36,
     "metadata": {},
     "output_type": "execute_result"
    }
   ],
   "source": [
    "#Check manga sales.\n",
    "df_sales = pd.read_csv(\"Clean_Dataset/manga_sales.csv\", encoding = 'cp1252')\n",
    "df_sales.isnull().values.any()"
   ]
  },
  {
   "cell_type": "markdown",
   "metadata": {},
   "source": [
    "### Join files"
   ]
  },
  {
   "cell_type": "code",
   "execution_count": 33,
   "metadata": {},
   "outputs": [],
   "source": [
    "#Merge\n",
    "anime_merged = pd.merge(df_anime, df_anime_stats, on = \"anime_id\")\n",
    "manga_merged = pd.merge(df_manga, df_manga_stats, on = \"manga_id\")"
   ]
  },
  {
   "cell_type": "code",
   "execution_count": 37,
   "metadata": {},
   "outputs": [
    {
     "name": "stdout",
     "output_type": "stream",
     "text": [
      "True\n",
      "True\n"
     ]
    }
   ],
   "source": [
    "print(anime_merged.isnull().values.any())\n",
    "print(manga_merged.isnull().values.any())"
   ]
  },
  {
   "cell_type": "markdown",
   "metadata": {},
   "source": [
    "### Create new files"
   ]
  },
  {
   "cell_type": "code",
   "execution_count": 34,
   "metadata": {},
   "outputs": [],
   "source": [
    "anime_merged.to_csv('Clean_Dataset/anime_clean.csv', index = False)\n",
    "manga_merged.to_csv('Clean_Dataset/manga_clean.csv', index = False)"
   ]
  }
 ],
 "metadata": {
  "kernelspec": {
   "display_name": "Python 3.11.0 64-bit",
   "language": "python",
   "name": "python3"
  },
  "language_info": {
   "codemirror_mode": {
    "name": "ipython",
    "version": 3
   },
   "file_extension": ".py",
   "mimetype": "text/x-python",
   "name": "python",
   "nbconvert_exporter": "python",
   "pygments_lexer": "ipython3",
   "version": "3.11.0"
  },
  "orig_nbformat": 4,
  "vscode": {
   "interpreter": {
    "hash": "4b3f78a40c99839add9ae6b8081eb1f091dd92083a4a80d4ff0aaa5a70e93b27"
   }
  }
 },
 "nbformat": 4,
 "nbformat_minor": 2
}
