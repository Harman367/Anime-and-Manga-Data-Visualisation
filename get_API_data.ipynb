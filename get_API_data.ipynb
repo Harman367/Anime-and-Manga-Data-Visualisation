{
 "cells": [
  {
   "cell_type": "markdown",
   "metadata": {},
   "source": [
    "# Get anime and manga stats from API"
   ]
  },
  {
   "cell_type": "markdown",
   "metadata": {},
   "source": [
    "### Imports"
   ]
  },
  {
   "cell_type": "code",
   "execution_count": 1,
   "metadata": {},
   "outputs": [],
   "source": [
    "# Imports\n",
    "import requests\n",
    "import csv\n",
    "from ratelimit import limits, sleep_and_retry, RateLimitException\n",
    "import pandas as pd\n",
    "from backoff import on_exception, expo\n",
    "import numpy as np\n",
    "import time"
   ]
  },
  {
   "cell_type": "markdown",
   "metadata": {},
   "source": [
    "### List to store stats"
   ]
  },
  {
   "cell_type": "code",
   "execution_count": 2,
   "metadata": {},
   "outputs": [],
   "source": [
    "#Store anime stats\n",
    "data_anime = {    \n",
    "    'anime_id':[],\n",
    "    'watching' :[],\n",
    "    'completed':[],\n",
    "    'on_hold':[],\n",
    "    'dropped':[],\n",
    "    'plan_to_watch':[],\n",
    "    'total':[]\n",
    "}\n",
    "\n",
    "#Store manga stats\n",
    "data_manga = {    \n",
    "    'manga_id':[],\n",
    "    'reading' :[],\n",
    "    'completed':[],\n",
    "    'on_hold':[],\n",
    "    'dropped':[],\n",
    "    'plan_to_read':[],\n",
    "    'total':[]\n",
    "}"
   ]
  },
  {
   "cell_type": "markdown",
   "metadata": {},
   "source": [
    "### Rate Limter"
   ]
  },
  {
   "cell_type": "code",
   "execution_count": 3,
   "metadata": {},
   "outputs": [],
   "source": [
    "@sleep_and_retry\n",
    "@limits(calls = 1, period = 1)\n",
    "def call_api(url):\n",
    "    response = requests.get(url)\n",
    "\n",
    "    print(url)\n",
    "\n",
    "    if response.status_code != 200:\n",
    "        return None\n",
    "\n",
    "    return response"
   ]
  },
  {
   "cell_type": "markdown",
   "metadata": {},
   "source": [
    "### Get anime ID for top 500"
   ]
  },
  {
   "cell_type": "code",
   "execution_count": 4,
   "metadata": {},
   "outputs": [],
   "source": [
    "df_anime = pd.read_csv(\"Dataset/anime.csv\")\n",
    "\n",
    "df_anime.sort_values(by = ['score'], ascending=False, inplace = True)\n",
    "\n",
    "df_anime = df_anime.head(500)\n",
    "\n",
    "anime = np.array_split(df_anime, 2)"
   ]
  },
  {
   "cell_type": "markdown",
   "metadata": {},
   "source": [
    "### Get anime data"
   ]
  },
  {
   "cell_type": "code",
   "execution_count": 5,
   "metadata": {},
   "outputs": [],
   "source": [
    "def getAnime(i):    \n",
    "    for a in anime[i]['anime_id']:\n",
    "        url = \"https://api.jikan.moe/v4/anime/\"+ str(a) +\"/statistics\"\n",
    "        data = call_api(url)\n",
    "\n",
    "        if(data == None):\n",
    "            print(a)\n",
    "        \n",
    "        if(data != None):\n",
    "            data = data.json()['data']\n",
    "\n",
    "            data_anime['anime_id'].append(a)\n",
    "            data_anime['watching'].append(data['watching'])\n",
    "            data_anime['completed'].append(data['completed'])\n",
    "            data_anime['on_hold'].append(data['on_hold'])\n",
    "            data_anime['dropped'].append(data['dropped'])\n",
    "            data_anime['plan_to_watch'].append(data['plan_to_watch'])\n",
    "            data_anime['total'].append(data['total'])\n",
    "\n",
    "    time.sleep(60)"
   ]
  },
  {
   "cell_type": "code",
   "execution_count": 6,
   "metadata": {},
   "outputs": [
    {
     "name": "stdout",
     "output_type": "stream",
     "text": [
      "https://api.jikan.moe/v4/anime/43608/statistics\n",
      "https://api.jikan.moe/v4/anime/5114/statistics\n",
      "https://api.jikan.moe/v4/anime/9253/statistics\n",
      "https://api.jikan.moe/v4/anime/28977/statistics\n",
      "https://api.jikan.moe/v4/anime/38524/statistics\n",
      "https://api.jikan.moe/v4/anime/9969/statistics\n",
      "https://api.jikan.moe/v4/anime/15417/statistics\n",
      "https://api.jikan.moe/v4/anime/39486/statistics\n",
      "https://api.jikan.moe/v4/anime/11061/statistics\n",
      "https://api.jikan.moe/v4/anime/42938/statistics\n",
      "https://api.jikan.moe/v4/anime/820/statistics\n",
      "https://api.jikan.moe/v4/anime/34096/statistics\n",
      "https://api.jikan.moe/v4/anime/918/statistics\n",
      "https://api.jikan.moe/v4/anime/35180/statistics\n",
      "https://api.jikan.moe/v4/anime/28851/statistics\n",
      "https://api.jikan.moe/v4/anime/37987/statistics\n",
      "https://api.jikan.moe/v4/anime/4181/statistics\n",
      "https://api.jikan.moe/v4/anime/15335/statistics\n",
      "https://api.jikan.moe/v4/anime/2904/statistics\n",
      "https://api.jikan.moe/v4/anime/35247/statistics\n",
      "https://api.jikan.moe/v4/anime/37491/statistics\n",
      "https://api.jikan.moe/v4/anime/32281/statistics\n",
      "https://api.jikan.moe/v4/anime/47778/statistics\n",
      "https://api.jikan.moe/v4/anime/19/statistics\n",
      "https://api.jikan.moe/v4/anime/40028/statistics\n",
      "https://api.jikan.moe/v4/anime/48583/statistics\n",
      "https://api.jikan.moe/v4/anime/50265/statistics\n",
      "https://api.jikan.moe/v4/anime/36838/statistics\n",
      "https://api.jikan.moe/v4/anime/37510/statistics\n",
      "https://api.jikan.moe/v4/anime/40682/statistics\n",
      "https://api.jikan.moe/v4/anime/50160/statistics\n",
      "https://api.jikan.moe/v4/anime/31758/statistics\n",
      "https://api.jikan.moe/v4/anime/44074/statistics\n",
      "https://api.jikan.moe/v4/anime/32935/statistics\n",
      "https://api.jikan.moe/v4/anime/199/statistics\n",
      "https://api.jikan.moe/v4/anime/17074/statistics\n",
      "https://api.jikan.moe/v4/anime/1/statistics\n",
      "https://api.jikan.moe/v4/anime/41084/statistics\n",
      "https://api.jikan.moe/v4/anime/33095/statistics\n",
      "https://api.jikan.moe/v4/anime/263/statistics\n",
      "https://api.jikan.moe/v4/anime/24701/statistics\n",
      "https://api.jikan.moe/v4/anime/37521/statistics\n",
      "https://api.jikan.moe/v4/anime/46102/statistics\n",
      "https://api.jikan.moe/v4/anime/45576/statistics\n",
      "https://api.jikan.moe/v4/anime/33050/statistics\n",
      "https://api.jikan.moe/v4/anime/48569/statistics\n",
      "https://api.jikan.moe/v4/anime/44/statistics\n",
      "https://api.jikan.moe/v4/anime/2921/statistics\n",
      "https://api.jikan.moe/v4/anime/21939/statistics\n",
      "https://api.jikan.moe/v4/anime/1575/statistics\n"
     ]
    }
   ],
   "source": [
    "getAnime(1)"
   ]
  },
  {
   "cell_type": "markdown",
   "metadata": {},
   "source": [
    "### Add to csv"
   ]
  },
  {
   "cell_type": "code",
   "execution_count": null,
   "metadata": {},
   "outputs": [
    {
     "ename": "NameError",
     "evalue": "name 'pd' is not defined",
     "output_type": "error",
     "traceback": [
      "\u001b[1;31m---------------------------------------------------------------------------\u001b[0m",
      "\u001b[1;31mNameError\u001b[0m                                 Traceback (most recent call last)",
      "Cell \u001b[1;32mIn[1], line 1\u001b[0m\n\u001b[1;32m----> 1\u001b[0m df \u001b[39m=\u001b[39m pd\u001b[39m.\u001b[39mDataFrame(data_anime)\n\u001b[0;32m      2\u001b[0m df\u001b[39m.\u001b[39mto_csv(\u001b[39m'\u001b[39m\u001b[39mDataset/anime_stats.csv\u001b[39m\u001b[39m'\u001b[39m, index\u001b[39m=\u001b[39m\u001b[39mFalse\u001b[39;00m)\n",
      "\u001b[1;31mNameError\u001b[0m: name 'pd' is not defined"
     ]
    }
   ],
   "source": [
    "df = pd.DataFrame(data_anime)\n",
    "df.to_csv('Dataset/anime_stats.csv', index=False)"
   ]
  },
  {
   "cell_type": "markdown",
   "metadata": {},
   "source": [
    "### Get manga ID for top 500"
   ]
  },
  {
   "cell_type": "code",
   "execution_count": null,
   "metadata": {},
   "outputs": [],
   "source": [
    "df_manga = pd.read_csv(\"Dataset/manga.csv\")\n",
    "\n",
    "df_manga.sort_values(by = ['score'], ascending=False, inplace = True)\n",
    "\n",
    "df_manga = df_manga.head(500)\n",
    "\n",
    "manga = np.array_split(df_manga, 10)"
   ]
  },
  {
   "cell_type": "markdown",
   "metadata": {},
   "source": [
    "### Get manga data"
   ]
  },
  {
   "cell_type": "code",
   "execution_count": null,
   "metadata": {},
   "outputs": [],
   "source": [
    "def getManga(i): \n",
    "    for m in manga[i]['manga_id']:\n",
    "        print(m)\n",
    "\n",
    "        url = \"https://api.jikan.moe/v4/manga/\"+ str(m) +\"/statistics\"\n",
    "        data = call_api(url)\n",
    "\n",
    "        if(data == None):\n",
    "            print(m)\n",
    "        \n",
    "        if(data != None):\n",
    "            data = data.json()['data']\n",
    "        \n",
    "            data_manga['manga_id'].append(m)\n",
    "            data_manga['reading'].append(data['reading'])\n",
    "            data_manga['completed'].append(data['completed'])\n",
    "            data_manga['on_hold'].append(data['on_hold'])\n",
    "            data_manga['dropped'].append(data['dropped'])\n",
    "            data_manga['plan_to_read'].append(data['plan_to_read'])\n",
    "            data_manga['total'].append(data['total'])\n",
    "\n",
    "    time.sleep(60)"
   ]
  },
  {
   "cell_type": "code",
   "execution_count": null,
   "metadata": {},
   "outputs": [
    {
     "name": "stdout",
     "output_type": "stream",
     "text": [
      "2\n",
      "https://api.jikan.moe/v4/manga/2/statistics\n",
      "1706\n",
      "https://api.jikan.moe/v4/manga/1706/statistics\n",
      "13\n",
      "https://api.jikan.moe/v4/manga/13/statistics\n",
      "656\n",
      "https://api.jikan.moe/v4/manga/656/statistics\n",
      "1\n",
      "https://api.jikan.moe/v4/manga/1/statistics\n",
      "51\n",
      "https://api.jikan.moe/v4/manga/51/statistics\n",
      "25\n",
      "https://api.jikan.moe/v4/manga/25/statistics\n",
      "4632\n",
      "https://api.jikan.moe/v4/manga/4632/statistics\n",
      "70345\n",
      "https://api.jikan.moe/v4/manga/70345/statistics\n",
      "642\n",
      "https://api.jikan.moe/v4/manga/642/statistics\n",
      "16765\n",
      "https://api.jikan.moe/v4/manga/16765/statistics\n",
      "44489\n",
      "https://api.jikan.moe/v4/manga/44489/statistics\n",
      "14893\n",
      "https://api.jikan.moe/v4/manga/14893/statistics\n",
      "1303\n",
      "https://api.jikan.moe/v4/manga/1303/statistics\n",
      "3\n",
      "https://api.jikan.moe/v4/manga/3/statistics\n",
      "126479\n",
      "https://api.jikan.moe/v4/manga/126479/statistics\n",
      "90125\n",
      "https://api.jikan.moe/v4/manga/90125/statistics\n",
      "89357\n",
      "https://api.jikan.moe/v4/manga/89357/statistics\n",
      "123992\n",
      "https://api.jikan.moe/v4/manga/123992/statistics\n",
      "23751\n",
      "https://api.jikan.moe/v4/manga/23751/statistics\n",
      "1224\n",
      "https://api.jikan.moe/v4/manga/1224/statistics\n",
      "336\n",
      "https://api.jikan.moe/v4/manga/336/statistics\n",
      "657\n",
      "https://api.jikan.moe/v4/manga/657/statistics\n",
      "104\n",
      "https://api.jikan.moe/v4/manga/104/statistics\n",
      "56805\n",
      "https://api.jikan.moe/v4/manga/56805/statistics\n",
      "44227\n",
      "https://api.jikan.moe/v4/manga/44227/statistics\n",
      "35243\n",
      "https://api.jikan.moe/v4/manga/35243/statistics\n",
      "9115\n",
      "https://api.jikan.moe/v4/manga/9115/statistics\n",
      "651\n",
      "https://api.jikan.moe/v4/manga/651/statistics\n",
      "21525\n",
      "https://api.jikan.moe/v4/manga/21525/statistics\n",
      "34053\n",
      "https://api.jikan.moe/v4/manga/34053/statistics\n",
      "104039\n",
      "https://api.jikan.moe/v4/manga/104039/statistics\n",
      "100448\n",
      "https://api.jikan.moe/v4/manga/100448/statistics\n",
      "14483\n",
      "https://api.jikan.moe/v4/manga/14483/statistics\n",
      "40171\n",
      "https://api.jikan.moe/v4/manga/40171/statistics\n",
      "74697\n",
      "https://api.jikan.moe/v4/manga/74697/statistics\n",
      "91941\n",
      "https://api.jikan.moe/v4/manga/91941/statistics\n",
      "28\n",
      "https://api.jikan.moe/v4/manga/28/statistics\n",
      "70261\n",
      "https://api.jikan.moe/v4/manga/70261/statistics\n",
      "55215\n",
      "https://api.jikan.moe/v4/manga/55215/statistics\n",
      "145863\n",
      "https://api.jikan.moe/v4/manga/145863/statistics\n",
      "418\n",
      "https://api.jikan.moe/v4/manga/418/statistics\n",
      "44347\n",
      "https://api.jikan.moe/v4/manga/44347/statistics\n",
      "116778\n",
      "https://api.jikan.moe/v4/manga/116778/statistics\n",
      "121496\n",
      "https://api.jikan.moe/v4/manga/121496/statistics\n",
      "45143\n",
      "https://api.jikan.moe/v4/manga/45143/statistics\n",
      "125036\n",
      "https://api.jikan.moe/v4/manga/125036/statistics\n",
      "1859\n",
      "https://api.jikan.moe/v4/manga/1859/statistics\n",
      "4\n",
      "https://api.jikan.moe/v4/manga/4/statistics\n",
      "35513\n",
      "https://api.jikan.moe/v4/manga/35513/statistics\n",
      "26\n",
      "https://api.jikan.moe/v4/manga/26/statistics\n",
      "72467\n",
      "https://api.jikan.moe/v4/manga/72467/statistics\n",
      "21\n",
      "https://api.jikan.moe/v4/manga/21/statistics\n",
      "107931\n",
      "https://api.jikan.moe/v4/manga/107931/statistics\n",
      "664\n",
      "https://api.jikan.moe/v4/manga/664/statistics\n",
      "145\n",
      "https://api.jikan.moe/v4/manga/145/statistics\n",
      "1133\n",
      "https://api.jikan.moe/v4/manga/1133/statistics\n",
      "119161\n",
      "https://api.jikan.moe/v4/manga/119161/statistics\n",
      "7\n",
      "https://api.jikan.moe/v4/manga/7/statistics\n",
      "88660\n",
      "https://api.jikan.moe/v4/manga/88660/statistics\n",
      "78523\n",
      "https://api.jikan.moe/v4/manga/78523/statistics\n",
      "904\n",
      "https://api.jikan.moe/v4/manga/904/statistics\n",
      "81669\n",
      "https://api.jikan.moe/v4/manga/81669/statistics\n",
      "9726\n",
      "https://api.jikan.moe/v4/manga/9726/statistics\n",
      "98930\n",
      "https://api.jikan.moe/v4/manga/98930/statistics\n",
      "103237\n",
      "https://api.jikan.moe/v4/manga/103237/statistics\n",
      "7375\n",
      "https://api.jikan.moe/v4/manga/7375/statistics\n",
      "24875\n",
      "https://api.jikan.moe/v4/manga/24875/statistics\n",
      "756\n",
      "https://api.jikan.moe/v4/manga/756/statistics\n",
      "117077\n",
      "https://api.jikan.moe/v4/manga/117077/statistics\n",
      "114043\n",
      "https://api.jikan.moe/v4/manga/114043/statistics\n",
      "81\n",
      "https://api.jikan.moe/v4/manga/81/statistics\n",
      "60553\n",
      "https://api.jikan.moe/v4/manga/60553/statistics\n",
      "44\n",
      "https://api.jikan.moe/v4/manga/44/statistics\n",
      "86119\n",
      "https://api.jikan.moe/v4/manga/86119/statistics\n",
      "745\n",
      "https://api.jikan.moe/v4/manga/745/statistics\n",
      "60783\n",
      "https://api.jikan.moe/v4/manga/60783/statistics\n",
      "85968\n",
      "https://api.jikan.moe/v4/manga/85968/statistics\n",
      "105084\n",
      "https://api.jikan.moe/v4/manga/105084/statistics\n",
      "37707\n",
      "https://api.jikan.moe/v4/manga/37707/statistics\n",
      "126287\n",
      "https://api.jikan.moe/v4/manga/126287/statistics\n",
      "3031\n",
      "https://api.jikan.moe/v4/manga/3031/statistics\n",
      "3006\n",
      "https://api.jikan.moe/v4/manga/3006/statistics\n",
      "79085\n",
      "https://api.jikan.moe/v4/manga/79085/statistics\n",
      "399\n"
     ]
    }
   ],
   "source": [
    "getManga(0)"
   ]
  },
  {
   "cell_type": "code",
   "execution_count": null,
   "metadata": {},
   "outputs": [],
   "source": [
    "getManga(1)"
   ]
  },
  {
   "cell_type": "code",
   "execution_count": null,
   "metadata": {},
   "outputs": [],
   "source": [
    "getAnime(2)"
   ]
  },
  {
   "cell_type": "code",
   "execution_count": null,
   "metadata": {},
   "outputs": [],
   "source": [
    "getAnime(3)"
   ]
  },
  {
   "cell_type": "code",
   "execution_count": null,
   "metadata": {},
   "outputs": [],
   "source": [
    "getAnime(4)"
   ]
  },
  {
   "cell_type": "code",
   "execution_count": null,
   "metadata": {},
   "outputs": [],
   "source": [
    "getAnime(5)"
   ]
  },
  {
   "cell_type": "code",
   "execution_count": null,
   "metadata": {},
   "outputs": [],
   "source": [
    "getAnime(6)"
   ]
  },
  {
   "cell_type": "code",
   "execution_count": null,
   "metadata": {},
   "outputs": [],
   "source": [
    "getAnime(7)"
   ]
  },
  {
   "cell_type": "code",
   "execution_count": null,
   "metadata": {},
   "outputs": [],
   "source": [
    "getAnime(8)"
   ]
  },
  {
   "cell_type": "code",
   "execution_count": null,
   "metadata": {},
   "outputs": [],
   "source": [
    "getAnime(9)"
   ]
  },
  {
   "cell_type": "markdown",
   "metadata": {},
   "source": [
    "### Add to csv"
   ]
  },
  {
   "cell_type": "code",
   "execution_count": null,
   "metadata": {},
   "outputs": [],
   "source": [
    "df2 = pd.DataFrame(data_anime)\n",
    "df2.to_csv('Dataset/manga_stats.csv', index=False)"
   ]
  }
 ],
 "metadata": {
  "kernelspec": {
   "display_name": "Python 3.11.0 64-bit",
   "language": "python",
   "name": "python3"
  },
  "language_info": {
   "codemirror_mode": {
    "name": "ipython",
    "version": 3
   },
   "file_extension": ".py",
   "mimetype": "text/x-python",
   "name": "python",
   "nbconvert_exporter": "python",
   "pygments_lexer": "ipython3",
   "version": "3.11.0"
  },
  "orig_nbformat": 4,
  "vscode": {
   "interpreter": {
    "hash": "4b3f78a40c99839add9ae6b8081eb1f091dd92083a4a80d4ff0aaa5a70e93b27"
   }
  }
 },
 "nbformat": 4,
 "nbformat_minor": 2
}
