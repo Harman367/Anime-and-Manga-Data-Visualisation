{
 "cells": [
  {
   "cell_type": "code",
   "execution_count": 1,
   "metadata": {},
   "outputs": [],
   "source": [
    "# Imports\n",
    "import requests\n",
    "import csv\n",
    "from ratelimit import limits, sleep_and_retry"
   ]
  },
  {
   "cell_type": "code",
   "execution_count": 40,
   "metadata": {},
   "outputs": [],
   "source": [
    "import pandas as pd\n",
    "\n",
    "data = {    \n",
    "    'Courses':[],\n",
    "    'Fee' :[],\n",
    "    'Duration':[],\n",
    "    'Discount':[]\n",
    "}\n",
    "\n",
    "data['Courses'].append('test1')\n",
    "data['Fee'].append('test2')\n",
    "data['Duration'].append('test3')\n",
    "data['Discount'].append('test4')\n",
    "\n",
    "\n",
    "df = pd.DataFrame(data)\n",
    "df.to_csv('test.csv', index=False)"
   ]
  },
  {
   "cell_type": "code",
   "execution_count": 33,
   "metadata": {},
   "outputs": [
    {
     "name": "stdout",
     "output_type": "stream",
     "text": [
      "{'watching': 232414, 'completed': 2195091, 'on_hold': 103165, 'dropped': 50084, 'plan_to_watch': 451791, 'total': 3032545, 'scores': [{'score': 1, 'votes': 39328, 'percentage': 2}, {'score': 2, 'votes': 2991, 'percentage': 0.2}, {'score': 3, 'votes': 2404, 'percentage': 0.1}, {'score': 4, 'votes': 4964, 'percentage': 0.3}, {'score': 5, 'votes': 13738, 'percentage': 0.7}, {'score': 6, 'votes': 28918, 'percentage': 1.5}, {'score': 7, 'votes': 97434, 'percentage': 5}, {'score': 8, 'votes': 272177, 'percentage': 14.1}, {'score': 9, 'votes': 534840, 'percentage': 27.6}, {'score': 10, 'votes': 938424, 'percentage': 48.5}]}\n"
     ]
    }
   ],
   "source": [
    "# define the url\n",
    "url = \"https://api.jikan.moe/v4/anime/5114/statistics\"\n",
    "# request the url\n",
    "r = requests.get(url)\n",
    "\n",
    "data = r.json()['data']\n",
    "\n",
    "print(data)"
   ]
  },
  {
   "cell_type": "code",
   "execution_count": 6,
   "metadata": {},
   "outputs": [
    {
     "name": "stdout",
     "output_type": "stream",
     "text": [
      "232414\n",
      "2195091\n",
      "103165\n",
      "50084\n",
      "451791\n",
      "3032545\n"
     ]
    }
   ],
   "source": [
    "print(data['watching'])\n",
    "print(data['completed'])\n",
    "print(data['on_hold'])\n",
    "print(data['dropped'])\n",
    "print(data['plan_to_watch'])\n",
    "print(data['total'])"
   ]
  },
  {
   "cell_type": "code",
   "execution_count": null,
   "metadata": {},
   "outputs": [],
   "source": [
    "@sleep_and_retry\n",
    "@limits(calls = 1, period = 1)\n",
    "def call_api(url):\n",
    "    response = requests.get(url)\n",
    "\n",
    "    if response.status_code != 200:\n",
    "        raise Exception('API response: {}'.format(response.status_code))\n",
    "    return response\n",
    "\n",
    "\n",
    "test = [5114, 41467]\n",
    "\n",
    "book = []\n",
    "\n",
    "count = 0\n",
    "\n",
    "for i in range(61):\n",
    "    url = \"https://api.jikan.moe/v4/anime/\"+ str(5114) +\"/statistics\"\n",
    "    count += 1\n",
    "    print(count)\n",
    "    call_api(url)\n",
    "    book.append(res.json())\n",
    "\n",
    "\n",
    "print(book)"
   ]
  }
 ],
 "metadata": {
  "kernelspec": {
   "display_name": "Python 3.11.0 64-bit",
   "language": "python",
   "name": "python3"
  },
  "language_info": {
   "codemirror_mode": {
    "name": "ipython",
    "version": 3
   },
   "file_extension": ".py",
   "mimetype": "text/x-python",
   "name": "python",
   "nbconvert_exporter": "python",
   "pygments_lexer": "ipython3",
   "version": "3.11.0"
  },
  "orig_nbformat": 4,
  "vscode": {
   "interpreter": {
    "hash": "4b3f78a40c99839add9ae6b8081eb1f091dd92083a4a80d4ff0aaa5a70e93b27"
   }
  }
 },
 "nbformat": 4,
 "nbformat_minor": 2
}
